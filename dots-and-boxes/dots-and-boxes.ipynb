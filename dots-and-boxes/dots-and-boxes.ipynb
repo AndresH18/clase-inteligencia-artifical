{
 "cells": [
  {
   "cell_type": "code",
   "execution_count": 1,
   "metadata": {},
   "outputs": [],
   "source": [
    "# %%writefile box.py\n",
    "from copy import deepcopy\n",
    "\n",
    "class Box:\n",
    "    def __init__(self, x, y):\n",
    "        self.coordinates = [(x, y), (x + 1, y), (x, y + 1), (x + 1, y + 1)]\n",
    "        \n",
    "        self.XY = (x, y)\n",
    "\n",
    "        # lines\n",
    "        self.TopLine = (self.coordinates[0], self.coordinates[1])\n",
    "        self.LeftLine = (self.coordinates[0], self.coordinates[2])\n",
    "        self.RightLine = (self.coordinates[1], self.coordinates[3])\n",
    "        self.BottomLine = (self.coordinates[2], self.coordinates[3])\n",
    "        # lines \n",
    "        self.lines = [self.TopLine, self.LeftLine, self.RightLine, self.BottomLine]\n",
    "\n",
    "        # lines connection indicator \n",
    "        self._top = False\n",
    "        self._left = False\n",
    "        self._right = False\n",
    "        self._bottom = False\n",
    "\n",
    "        self.owner = None\n",
    "        self.completed = False\n",
    "\n",
    "        self.value = 1\n",
    "\n",
    "    def connect(self, coordinates):\n",
    "        line = coordinates\n",
    "        success = False\n",
    "\n",
    "        if line not in self.lines:\n",
    "            return False\n",
    "        \n",
    "        if line == self.TopLine and self._top is False:\n",
    "            self._top = True\n",
    "            success = True\n",
    "        elif line == self.LeftLine and self._left is False:\n",
    "            self._left = True\n",
    "            success = True\n",
    "        elif line == self.RightLine and self._right is False:\n",
    "            self._right = True\n",
    "            success = True\n",
    "        elif line == self.BottomLine and self._bottom is False:\n",
    "            self._bottom = True\n",
    "            success = True\n",
    "\n",
    "        if self._top == True and self._bottom == True and self._left == True and self._right == True:\n",
    "            self.completed = True\n",
    "        \n",
    "        return success\n",
    "\n",
    "    def copy(self):\n",
    "        return deepcopy(self)\n",
    "    \n",
    "    def _repr_pretty_(self, p, cycle):\n",
    "        if cycle:\n",
    "            pass\n",
    "\n",
    "        if self._top:\n",
    "            p.text(\"*---*\")\n",
    "        else:\n",
    "            p.text(\"*   *\")\n",
    "        p.break_()\n",
    "        if self._left:\n",
    "            p.text(\"|\")\n",
    "        else:\n",
    "            p.text(\" \")\n",
    "        \n",
    "        if self.completed:\n",
    "            p.text(f\" {self.owner} \")\n",
    "        else:\n",
    "            p.text(\"   \") \n",
    "\n",
    "        if self._right:\n",
    "            p.text(\"|\")\n",
    "\n",
    "        p.break_()\n",
    "\n",
    "        if self._bottom:\n",
    "            p.text(\"*---*\")\n",
    "        else:\n",
    "            p.text(\"*   *\")\n",
    "\n"
   ]
  },
  {
   "cell_type": "code",
   "execution_count": 22,
   "metadata": {},
   "outputs": [],
   "source": [
    "# %%writefile board.py\n",
    "from collections import deque\n",
    "from copy import deepcopy\n",
    "\n",
    "class Board:\n",
    "    display_single_box = False\n",
    "\n",
    "    def __init__(self, m, n):\n",
    "        self.player_score = 0\n",
    "        self.ai_score = 0\n",
    "        self.m = m\n",
    "        self.n = n\n",
    "        self._boxes = self._generate_boxes(m, n)\n",
    "        self._open_vectors = self._generate_vectors(m, n)\n",
    "        self._connected_vectors = set()\n",
    "\n",
    "    def _generate_boxes(self, rows, cols):\n",
    "        \"\"\"\n",
    "        This function generates the boxes of the board\n",
    "        \"\"\"\n",
    "        boxes = [[Box(x, y) for x in range(cols)] for y in range(rows)]\n",
    "\n",
    "        return boxes\n",
    "    \n",
    "    def _generate_vectors(self, m, n):\n",
    "        '''\n",
    "        The vectors represent the available moves, or lines, which can\n",
    "        be played on a game board of m rows and n columns. These are stored as tuples\n",
    "        containing each coordinate and are stored in a queue. The vector queue, along\n",
    "        with the list of boxes that correspond to the coordinates, are used to represent\n",
    "        game state.\n",
    "        Vector format: ((x1, y1), (x2, y2)).\n",
    "\n",
    "        The vectors always point away from the origin (0, 0), so moving like (1, 0) => (0, 0)\n",
    "        is not a valid move while (0, 0) => (1, 0) is a valid move\n",
    "        '''\n",
    "        vectors = set()\n",
    "        for i in range(0, m + 1):\n",
    "            for j in range(0, n):\n",
    "                # Adding horizontal line vectors\n",
    "                vectors.add(((j, i), (j + 1, i)))\n",
    "                # Adding vertical line vectors if not in the last row\n",
    "                if i < m:\n",
    "                    vectors.add(((j, i), (j, i + 1)))\n",
    "            # Adding the vertical line for the last column in the current row\n",
    "            if i < m:\n",
    "                vectors.add(((n, i), (n, i + 1)))\n",
    "        return vectors\n",
    "\n",
    "    def move(self, coordinates, player_move: bool = False):\n",
    "        player = \"P\" if player_move == True else \"A\"\n",
    "        \n",
    "        if coordinates in self._open_vectors:\n",
    "            self._open_vectors.remove(coordinates)\n",
    "            self._connected_vectors.add(coordinates)\n",
    "            self._checkboxes(coordinates, player)\n",
    "            # print(\"board: moved\")\n",
    "        \n",
    "    def has_moves(self):\n",
    "        # return len(self._open_vectors) != 0\n",
    "        return bool(self._open_vectors)\n",
    "\n",
    "    def get_available_moves(self):\n",
    "        return self._open_vectors\n",
    "        \n",
    "    def _checkboxes(self, coordinates, player: str):\n",
    "        for i in range(self.m):\n",
    "            for j in range(self.n):\n",
    "                box = self._boxes[i][j]\n",
    "                if coordinates in box.lines:\n",
    "                    box.connect(coordinates)\n",
    "                if box.completed == True and box.owner == None:\n",
    "                    box.owner = player\n",
    "                    self.prevComplete = True\n",
    "                    if player == \"P\":\n",
    "                        self.player_score += 1\n",
    "                    else:\n",
    "                        self.ai_score += 1\n",
    "    \n",
    "    def copy(self):\n",
    "        return deepcopy(self)\n",
    "\n",
    "    def display_board(self):\n",
    "        # Display player scores\n",
    "        print(f\"Player 1: {self.player_score}\")\n",
    "        print(f\"Player AI: {self.ai_score}\\n\")\n",
    "\n",
    "        # Display the board\n",
    "        for i in range(self.m):\n",
    "            # Top line of each row\n",
    "            top_line = \"   \"  # Start with some spacing for alignment\n",
    "            middle_line = \"   \"  # Line below to display vertical lines and boxes\n",
    "            \n",
    "            for j in range(self.n):\n",
    "                # Dot\n",
    "                top_line += \"*\"\n",
    "\n",
    "                # Horizontal line\n",
    "                if ((j, i), (j + 1, i)) in self._connected_vectors:\n",
    "                    top_line += \"---\"\n",
    "                else:\n",
    "                    top_line += \"   \"\n",
    "                \n",
    "                # Vertical line and box\n",
    "                if ((j, i), (j, i + 1)) in self._connected_vectors:\n",
    "                    middle_line += \"|\"\n",
    "                else:\n",
    "                    middle_line += \" \"\n",
    "                \n",
    "                # Box ownership\n",
    "                if self._boxes[j][i].completed:\n",
    "                    middle_line += f\" {self._boxes[j][i].owner} \"\n",
    "                else:\n",
    "                    middle_line += \"   \"\n",
    "            \n",
    "            # Last dot on the right end of the row\n",
    "            top_line += \"*\"\n",
    "            if ((self.n, i), (self.n, i + 1)) in self._connected_vectors:\n",
    "                middle_line += \"|\"\n",
    "            else:\n",
    "                middle_line += \" \"\n",
    "            \n",
    "            # Print the top line and the middle line\n",
    "            print(top_line)\n",
    "            print(middle_line)\n",
    "\n",
    "        # Bottom line of the last row\n",
    "        bottom_line = \"   \"\n",
    "        for j in range(self.n):\n",
    "            bottom_line += \"*\"\n",
    "            if ((j, self.m), (j + 1, self.m)) in self._connected_vectors:\n",
    "                bottom_line += \"---\"\n",
    "            else:\n",
    "                bottom_line += \"   \"\n",
    "        bottom_line += \"*\"\n",
    "        \n",
    "        # Print the bottom line\n",
    "        print(bottom_line)\n",
    "        print(\"\")  # New line for spacing\n",
    "    \n",
    "    def _repr_pretty_(self, p, cycle):\n",
    "        if (cycle):\n",
    "            pass\n",
    "\n",
    "        # Display player scores\n",
    "        # p.text(f\"    AI Score : {self.aiScore}\\n\")\n",
    "        # p.text(f\"Player Score : {self.playerScore}\\n\")\n",
    "\n",
    "        if Board.display_single_box:\n",
    "            self.__display_single_box(p)\n",
    "        else:\n",
    "            self.__display_multi_box(p)\n",
    "        \n",
    "    def __display_single_box(self, p):\n",
    "        last_line = \"\"\n",
    "        for i in range(self.m - 1):\n",
    "            top_line = \"\\t*\"\n",
    "            middle_line = \"\\t\"\n",
    "            last_line = \"\\t*\"\n",
    "\n",
    "            for j in range(self.n):\n",
    "                box = self._boxes[i][j]\n",
    "                top_line += \"---*\" if box._top else \"   *\"\n",
    "                middle_line += \"|\" if box._left else \" \"\n",
    "                if box.completed:\n",
    "                    middle_line += f\" {box.owner} \"\n",
    "                else:\n",
    "                    middle_line += \"   \"\n",
    "                last_line += \"---*\" if box._bottom else \"   *\"\n",
    "\n",
    "            \n",
    "            if box and box._right:\n",
    "                middle_line += \"|\"\n",
    "            \n",
    "            p.text(top_line)\n",
    "            p.break_()\n",
    "            p.text(middle_line)\n",
    "            p.break_()\n",
    "\n",
    "        p.text(last_line)\n",
    "        p.break_()\n",
    "    \n",
    "    def __display_multi_box(self, p):\n",
    "        for i in range(self.m):\n",
    "            top_line = \"\\t\"\n",
    "            middle_line = \"\\t\"\n",
    "            bottom_line = \"\\t\"\n",
    "\n",
    "            for j in range(self.n):\n",
    "                box = self._boxes[i][j]\n",
    "                top_line += \"*---*\" if box._top else \"*   *\"\n",
    "                middle_line += \"|\" if box._left else \" \"\n",
    "                if box.completed:\n",
    "                    middle_line += f\" {box.owner} \"\n",
    "                else:\n",
    "                    middle_line += \"   \"\n",
    "                middle_line += \"|\" if box._right else \" \"\n",
    "                bottom_line += \"*---*\" if box._bottom else \"*   *\"\n",
    "            \n",
    "            p.text(top_line)\n",
    "            p.break_()\n",
    "            p.text(middle_line)\n",
    "            p.break_()\n",
    "            p.text(bottom_line)\n",
    "            p.break_()\n",
    "            \n"
   ]
  },
  {
   "cell_type": "code",
   "execution_count": 3,
   "metadata": {},
   "outputs": [],
   "source": [
    "Board.display_single_box = False"
   ]
  },
  {
   "cell_type": "code",
   "execution_count": 4,
   "metadata": {},
   "outputs": [
    {
     "data": {
      "text/plain": [
       "\t*   **   **   *\n",
       "\t               \n",
       "\t*   **   **   *\n",
       "\t*   **   **   *\n",
       "\t               \n",
       "\t*   **   **   *\n",
       "\t*   **   **   *\n",
       "\t               \n",
       "\t*   **   **   *\n"
      ]
     },
     "execution_count": 4,
     "metadata": {},
     "output_type": "execute_result"
    }
   ],
   "source": [
    "Board(3, 3)"
   ]
  },
  {
   "cell_type": "code",
   "execution_count": 5,
   "metadata": {},
   "outputs": [
    {
     "data": {
      "text/plain": [
       "\t*   **   *\n",
       "\t          \n",
       "\t*   **   *\n",
       "\t*   **   *\n",
       "\t          \n",
       "\t*   **   *\n"
      ]
     },
     "execution_count": 5,
     "metadata": {},
     "output_type": "execute_result"
    }
   ],
   "source": [
    "# from board import Board\n",
    "\n",
    "board = Board(2, 2)\n",
    "board"
   ]
  },
  {
   "cell_type": "code",
   "execution_count": 25,
   "metadata": {},
   "outputs": [
    {
     "data": {
      "text/plain": [
       "\t*   *   *\n",
       "\t    |   |\n",
       "\t*---*---*\n"
      ]
     },
     "execution_count": 25,
     "metadata": {},
     "output_type": "execute_result"
    }
   ],
   "source": [
    "board.move(((0, 1), (1, 1)))\n",
    "board"
   ]
  },
  {
   "cell_type": "code",
   "execution_count": 6,
   "metadata": {},
   "outputs": [
    {
     "data": {
      "text/plain": [
       "*   *\n",
       "|   \n",
       "*   *"
      ]
     },
     "execution_count": 6,
     "metadata": {},
     "output_type": "execute_result"
    }
   ],
   "source": [
    "board._boxes[0][0]"
   ]
  },
  {
   "cell_type": "code",
   "execution_count": 53,
   "metadata": {},
   "outputs": [],
   "source": [
    "from copy import deepcopy\n",
    "import random\n",
    "\n",
    "class GameManager:\n",
    "    def __init__(self, m, n, level, mode = \"minimax\"):\n",
    "        self._level = level\n",
    "        self._board = Board(m, n)\n",
    "\n",
    "        if mode == \"alphabeta\":\n",
    "            self._mode = self.alpha_beta\n",
    "        else:\n",
    "            self._mode = self.mini_max\n",
    "    \n",
    "    def _repr_pretty_(self, p, cycle):\n",
    "        if (cycle):\n",
    "            pass\n",
    "\n",
    "        # Display player scores\n",
    "        p.text(f\"    AI Score : {self._board.ai_score}\\n\")\n",
    "        p.text(f\"Player Score : {self._board.player_score}\\n\")\n",
    "        self._board._repr_pretty_(p, cycle)\n",
    "\n",
    "    def get_victor(self):\n",
    "        print(\"The game ended\")\n",
    "        print(f\"Score: Player={self._board.player_score}, AI={self._board.ai_score}\")\n",
    "        \n",
    "        if self._board.player_score > self._board.ai_score:\n",
    "            victor = \"player\"\n",
    "        elif self._board.player_score < self._board.ai_score:\n",
    "            victor = \"ai\"\n",
    "        else:\n",
    "            victor = \"draw\"\n",
    "\n",
    "        return victor\n",
    "\n",
    "    def ai_start(self):\n",
    "        pass\n",
    "\n",
    "    def get_move(self, origin, dest):\n",
    "        # if origin[0] > dest[0] or origin[1] > dest[1]:\n",
    "        #     origin, dest = dest, origin\n",
    "        coordinates = (origin, dest)\n",
    "        # print(\"entered move=\", coordinates)\n",
    "        self._board.move(coordinates, player_move = True)\n",
    "\n",
    "        if not self._board.has_moves():\n",
    "            return self.get_victor()\n",
    "\n",
    "        board = deepcopy(self._board)\n",
    "        next = self._mode(board, self._level, True)\n",
    "        # print(\"next move\", next[1])\n",
    "        \n",
    "        self._board.move(next[1])\n",
    "        return next[1]\n",
    "\n",
    "    def mini_max(self, state: Board, ply: int, max_min: bool):\n",
    "        if ply == 0 or len(state._open_vectors) == 0:\n",
    "            h = self.evaluate(state)\n",
    "            return (h, None)\n",
    "        \n",
    "        best_move = None\n",
    "        \n",
    "        # ai turn\n",
    "        if max_min is True:\n",
    "            max_val = float('-inf')\n",
    "            for move in state.get_available_moves():\n",
    "                new_state = deepcopy(state)\n",
    "                new_state.move(move, player_move = False)\n",
    "                eval, _ = self.mini_max(new_state, ply - 1, False)\n",
    "                if eval > max_val:\n",
    "                    max_val = eval\n",
    "                    best_move = move\n",
    "            \n",
    "            return (max_val, best_move)\n",
    "        \n",
    "        # player turn\n",
    "        else:\n",
    "            min_val = float('inf')\n",
    "            for move in state.get_available_moves():\n",
    "                new_state = deepcopy(state)\n",
    "                new_state.move(move, player_move = True)\n",
    "                eval, _ = self.mini_max(new_state, ply - 1, True)\n",
    "                if eval < min_val:\n",
    "                    min_val = eval\n",
    "                    best_move = move\n",
    "            \n",
    "            return (min_val, best_move)\n",
    "    \n",
    "    def alpha_beta(self, state: Board, ply: int, is_max: bool, alpha: float, beta: float):\n",
    "        if ply == 0 or not state.has_moves():\n",
    "            h = self.evaluate(state)\n",
    "            return (h, None)\n",
    "\n",
    "        best_move = None\n",
    "\n",
    "        if is_max:\n",
    "            max_val = float(\"-inf\")\n",
    "            for move in state.get_available_moves():\n",
    "                new_state = deepcopy(state)\n",
    "                new_state.move(move, player_move = False)\n",
    "                eval, _ = self.alpha_beta(new_state, ply - 1, False, alpha, beta)\n",
    "                if eval > max_val:\n",
    "                    max_val = eval\n",
    "                    best_move = move\n",
    "                \n",
    "                alpha = max(alpha, max_val)\n",
    "\n",
    "                if beta <= alpha:\n",
    "                    break\n",
    "\n",
    "            return (max_val, best_move)\n",
    "        else:\n",
    "            min_val = float('inf')\n",
    "            for move in state.get_available_moves():\n",
    "                new_state = deepcopy(state)\n",
    "                new_state.move(move, player_move = True)\n",
    "                eval, _ = self.alpha_beta(new_state, ply - 1, True, alpha, beta)\n",
    "                if eval < min_val:\n",
    "                    min_val = eval\n",
    "                    best_move = move\n",
    "                \n",
    "                beta = min(beta, min_val)\n",
    "\n",
    "                if beta <= alpha:\n",
    "                    break\n",
    "\n",
    "            return (min_val, best_move)                \n",
    "\n",
    "    def evaluate(self, state: Board):\n",
    "        return random.randint(0, 100)\n",
    "    \n"
   ]
  },
  {
   "cell_type": "code",
   "execution_count": 59,
   "metadata": {},
   "outputs": [
    {
     "name": "stdout",
     "output_type": "stream",
     "text": [
      "<bound method GameManager.mini_max of <__main__.GameManager object at 0x748eb5642f60>>\n"
     ]
    },
    {
     "data": {
      "text/plain": [
       "    AI Score : 0\n",
       "Player Score : 0\n",
       "\t*   **   **   **   **   *\n",
       "\t                         \n",
       "\t*   **   **   **   **   *\n",
       "\t*   **   **   **   **   *\n",
       "\t                         \n",
       "\t*   **   **   **   **   *\n",
       "\t*   **   **   **   **   *\n",
       "\t                         \n",
       "\t*   **   **   **   **   *\n",
       "\t*   **   **   **   **   *\n",
       "\t                         \n",
       "\t*   **   **   **   **   *\n",
       "\t*   **   **   **   **   *\n",
       "\t                         \n",
       "\t*   **   **   **   **   *\n"
      ]
     },
     "execution_count": 59,
     "metadata": {},
     "output_type": "execute_result"
    }
   ],
   "source": [
    "game_min = GameManager(5, 5, 3)\n",
    "print(game_min._mode)\n",
    "game_min"
   ]
  },
  {
   "cell_type": "code",
   "execution_count": 57,
   "metadata": {},
   "outputs": [
    {
     "name": "stdout",
     "output_type": "stream",
     "text": [
      "<bound method GameManager.alpha_beta of <__main__.GameManager object at 0x748eb570dee0>>\n"
     ]
    },
    {
     "data": {
      "text/plain": [
       "    AI Score : 0\n",
       "Player Score : 0\n",
       "\t*   **   **   **   **   *\n",
       "\t                         \n",
       "\t*   **   **   **   **   *\n",
       "\t*   **   **   **   **   *\n",
       "\t                         \n",
       "\t*   **   **   **   **   *\n",
       "\t*   **   **   **   **   *\n",
       "\t                         \n",
       "\t*   **   **   **   **   *\n",
       "\t*   **   **   **   **   *\n",
       "\t                         \n",
       "\t*   **   **   **   **   *\n",
       "\t*   **   **   **   **   *\n",
       "\t                         \n",
       "\t*   **   **   **   **   *\n"
      ]
     },
     "execution_count": 57,
     "metadata": {},
     "output_type": "execute_result"
    }
   ],
   "source": [
    "game_alpha = GameManager(5, 5, 2, mode=\"alphabeta\")\n",
    "print(game_alpha._mode)\n",
    "game_alpha"
   ]
  },
  {
   "cell_type": "code",
   "execution_count": 60,
   "metadata": {},
   "outputs": [
    {
     "name": "stdout",
     "output_type": "stream",
     "text": [
      "((4, 4), (5, 4))\n"
     ]
    },
    {
     "data": {
      "text/plain": [
       "    AI Score : 0\n",
       "Player Score : 0\n",
       "\t*   **   **   **   **   *\n",
       "\t    ||                   \n",
       "\t*   **   **   **   **   *\n",
       "\t*   **   **   **   **   *\n",
       "\t                         \n",
       "\t*   **   **   **   **   *\n",
       "\t*   **   **   **   **   *\n",
       "\t                         \n",
       "\t*   **   **   **   **   *\n",
       "\t*   **   **   **   **   *\n",
       "\t                         \n",
       "\t*   **   **   **   **---*\n",
       "\t*   **   **   **   **---*\n",
       "\t                         \n",
       "\t*   **   **   **   **   *\n"
      ]
     },
     "execution_count": 60,
     "metadata": {},
     "output_type": "execute_result"
    }
   ],
   "source": [
    "move = game_min.get_move((1, 0), (1, 1))\n",
    "print(move)\n",
    "game_min"
   ]
  },
  {
   "cell_type": "code",
   "execution_count": 48,
   "metadata": {},
   "outputs": [
    {
     "ename": "KeyboardInterrupt",
     "evalue": "",
     "output_type": "error",
     "traceback": [
      "\u001b[0;31m---------------------------------------------------------------------------\u001b[0m",
      "\u001b[0;31mKeyboardInterrupt\u001b[0m                         Traceback (most recent call last)",
      "Cell \u001b[0;32mIn[48], line 1\u001b[0m\n\u001b[0;32m----> 1\u001b[0m move \u001b[38;5;241m=\u001b[39m \u001b[43mgame_min\u001b[49m\u001b[38;5;241;43m.\u001b[39;49m\u001b[43mget_move\u001b[49m\u001b[43m(\u001b[49m\u001b[43m(\u001b[49m\u001b[38;5;241;43m1\u001b[39;49m\u001b[43m,\u001b[49m\u001b[43m \u001b[49m\u001b[38;5;241;43m0\u001b[39;49m\u001b[43m)\u001b[49m\u001b[43m,\u001b[49m\u001b[43m \u001b[49m\u001b[43m(\u001b[49m\u001b[38;5;241;43m1\u001b[39;49m\u001b[43m,\u001b[49m\u001b[43m \u001b[49m\u001b[38;5;241;43m1\u001b[39;49m\u001b[43m)\u001b[49m\u001b[43m)\u001b[49m\n\u001b[1;32m      2\u001b[0m \u001b[38;5;28mprint\u001b[39m(move)\n\u001b[1;32m      3\u001b[0m game_min\n",
      "Cell \u001b[0;32mIn[40], line 49\u001b[0m, in \u001b[0;36mGameManager.get_move\u001b[0;34m(self, origin, dest)\u001b[0m\n\u001b[1;32m     46\u001b[0m     \u001b[38;5;28;01mreturn\u001b[39;00m \u001b[38;5;28mself\u001b[39m\u001b[38;5;241m.\u001b[39mget_victor()\n\u001b[1;32m     48\u001b[0m board \u001b[38;5;241m=\u001b[39m deepcopy(\u001b[38;5;28mself\u001b[39m\u001b[38;5;241m.\u001b[39m_board)\n\u001b[0;32m---> 49\u001b[0m \u001b[38;5;28mnext\u001b[39m \u001b[38;5;241m=\u001b[39m \u001b[38;5;28;43mself\u001b[39;49m\u001b[38;5;241;43m.\u001b[39;49m\u001b[43m_mode\u001b[49m\u001b[43m(\u001b[49m\u001b[43mboard\u001b[49m\u001b[43m,\u001b[49m\u001b[43m \u001b[49m\u001b[38;5;28;43mself\u001b[39;49m\u001b[38;5;241;43m.\u001b[39;49m\u001b[43m_level\u001b[49m\u001b[43m,\u001b[49m\u001b[43m \u001b[49m\u001b[38;5;28;43;01mTrue\u001b[39;49;00m\u001b[43m)\u001b[49m\n\u001b[1;32m     50\u001b[0m \u001b[38;5;66;03m# print(\"next move\", next[1])\u001b[39;00m\n\u001b[1;32m     52\u001b[0m \u001b[38;5;28mself\u001b[39m\u001b[38;5;241m.\u001b[39m_board\u001b[38;5;241m.\u001b[39mmove(\u001b[38;5;28mnext\u001b[39m[\u001b[38;5;241m1\u001b[39m])\n",
      "Cell \u001b[0;32mIn[40], line 68\u001b[0m, in \u001b[0;36mGameManager.mini_max\u001b[0;34m(self, state, ply, max_min)\u001b[0m\n\u001b[1;32m     66\u001b[0m new_state \u001b[38;5;241m=\u001b[39m deepcopy(state)\n\u001b[1;32m     67\u001b[0m new_state\u001b[38;5;241m.\u001b[39mmove(move, player_move \u001b[38;5;241m=\u001b[39m \u001b[38;5;28;01mFalse\u001b[39;00m)\n\u001b[0;32m---> 68\u001b[0m \u001b[38;5;28meval\u001b[39m, _ \u001b[38;5;241m=\u001b[39m \u001b[38;5;28;43mself\u001b[39;49m\u001b[38;5;241;43m.\u001b[39;49m\u001b[43mmini_max\u001b[49m\u001b[43m(\u001b[49m\u001b[43mnew_state\u001b[49m\u001b[43m,\u001b[49m\u001b[43m \u001b[49m\u001b[43mply\u001b[49m\u001b[43m \u001b[49m\u001b[38;5;241;43m-\u001b[39;49m\u001b[43m \u001b[49m\u001b[38;5;241;43m1\u001b[39;49m\u001b[43m,\u001b[49m\u001b[43m \u001b[49m\u001b[38;5;28;43;01mFalse\u001b[39;49;00m\u001b[43m)\u001b[49m\n\u001b[1;32m     69\u001b[0m \u001b[38;5;28;01mif\u001b[39;00m \u001b[38;5;28meval\u001b[39m \u001b[38;5;241m>\u001b[39m max_val:\n\u001b[1;32m     70\u001b[0m     max_val \u001b[38;5;241m=\u001b[39m \u001b[38;5;28meval\u001b[39m\n",
      "Cell \u001b[0;32mIn[40], line 81\u001b[0m, in \u001b[0;36mGameManager.mini_max\u001b[0;34m(self, state, ply, max_min)\u001b[0m\n\u001b[1;32m     79\u001b[0m new_state \u001b[38;5;241m=\u001b[39m deepcopy(state)\n\u001b[1;32m     80\u001b[0m new_state\u001b[38;5;241m.\u001b[39mmove(move, player_move \u001b[38;5;241m=\u001b[39m \u001b[38;5;28;01mTrue\u001b[39;00m)\n\u001b[0;32m---> 81\u001b[0m \u001b[38;5;28meval\u001b[39m, _ \u001b[38;5;241m=\u001b[39m \u001b[38;5;28;43mself\u001b[39;49m\u001b[38;5;241;43m.\u001b[39;49m\u001b[43mmini_max\u001b[49m\u001b[43m(\u001b[49m\u001b[43mnew_state\u001b[49m\u001b[43m,\u001b[49m\u001b[43m \u001b[49m\u001b[43mply\u001b[49m\u001b[43m \u001b[49m\u001b[38;5;241;43m-\u001b[39;49m\u001b[43m \u001b[49m\u001b[38;5;241;43m1\u001b[39;49m\u001b[43m,\u001b[49m\u001b[43m \u001b[49m\u001b[38;5;28;43;01mTrue\u001b[39;49;00m\u001b[43m)\u001b[49m\n\u001b[1;32m     82\u001b[0m \u001b[38;5;28;01mif\u001b[39;00m \u001b[38;5;28meval\u001b[39m \u001b[38;5;241m<\u001b[39m min_val:\n\u001b[1;32m     83\u001b[0m     min_val \u001b[38;5;241m=\u001b[39m \u001b[38;5;28meval\u001b[39m\n",
      "Cell \u001b[0;32mIn[40], line 68\u001b[0m, in \u001b[0;36mGameManager.mini_max\u001b[0;34m(self, state, ply, max_min)\u001b[0m\n\u001b[1;32m     66\u001b[0m new_state \u001b[38;5;241m=\u001b[39m deepcopy(state)\n\u001b[1;32m     67\u001b[0m new_state\u001b[38;5;241m.\u001b[39mmove(move, player_move \u001b[38;5;241m=\u001b[39m \u001b[38;5;28;01mFalse\u001b[39;00m)\n\u001b[0;32m---> 68\u001b[0m \u001b[38;5;28meval\u001b[39m, _ \u001b[38;5;241m=\u001b[39m \u001b[38;5;28;43mself\u001b[39;49m\u001b[38;5;241;43m.\u001b[39;49m\u001b[43mmini_max\u001b[49m\u001b[43m(\u001b[49m\u001b[43mnew_state\u001b[49m\u001b[43m,\u001b[49m\u001b[43m \u001b[49m\u001b[43mply\u001b[49m\u001b[43m \u001b[49m\u001b[38;5;241;43m-\u001b[39;49m\u001b[43m \u001b[49m\u001b[38;5;241;43m1\u001b[39;49m\u001b[43m,\u001b[49m\u001b[43m \u001b[49m\u001b[38;5;28;43;01mFalse\u001b[39;49;00m\u001b[43m)\u001b[49m\n\u001b[1;32m     69\u001b[0m \u001b[38;5;28;01mif\u001b[39;00m \u001b[38;5;28meval\u001b[39m \u001b[38;5;241m>\u001b[39m max_val:\n\u001b[1;32m     70\u001b[0m     max_val \u001b[38;5;241m=\u001b[39m \u001b[38;5;28meval\u001b[39m\n",
      "Cell \u001b[0;32mIn[40], line 81\u001b[0m, in \u001b[0;36mGameManager.mini_max\u001b[0;34m(self, state, ply, max_min)\u001b[0m\n\u001b[1;32m     79\u001b[0m new_state \u001b[38;5;241m=\u001b[39m deepcopy(state)\n\u001b[1;32m     80\u001b[0m new_state\u001b[38;5;241m.\u001b[39mmove(move, player_move \u001b[38;5;241m=\u001b[39m \u001b[38;5;28;01mTrue\u001b[39;00m)\n\u001b[0;32m---> 81\u001b[0m \u001b[38;5;28meval\u001b[39m, _ \u001b[38;5;241m=\u001b[39m \u001b[38;5;28;43mself\u001b[39;49m\u001b[38;5;241;43m.\u001b[39;49m\u001b[43mmini_max\u001b[49m\u001b[43m(\u001b[49m\u001b[43mnew_state\u001b[49m\u001b[43m,\u001b[49m\u001b[43m \u001b[49m\u001b[43mply\u001b[49m\u001b[43m \u001b[49m\u001b[38;5;241;43m-\u001b[39;49m\u001b[43m \u001b[49m\u001b[38;5;241;43m1\u001b[39;49m\u001b[43m,\u001b[49m\u001b[43m \u001b[49m\u001b[38;5;28;43;01mTrue\u001b[39;49;00m\u001b[43m)\u001b[49m\n\u001b[1;32m     82\u001b[0m \u001b[38;5;28;01mif\u001b[39;00m \u001b[38;5;28meval\u001b[39m \u001b[38;5;241m<\u001b[39m min_val:\n\u001b[1;32m     83\u001b[0m     min_val \u001b[38;5;241m=\u001b[39m \u001b[38;5;28meval\u001b[39m\n",
      "Cell \u001b[0;32mIn[40], line 66\u001b[0m, in \u001b[0;36mGameManager.mini_max\u001b[0;34m(self, state, ply, max_min)\u001b[0m\n\u001b[1;32m     64\u001b[0m max_val \u001b[38;5;241m=\u001b[39m \u001b[38;5;28mfloat\u001b[39m(\u001b[38;5;124m'\u001b[39m\u001b[38;5;124m-inf\u001b[39m\u001b[38;5;124m'\u001b[39m)\n\u001b[1;32m     65\u001b[0m \u001b[38;5;28;01mfor\u001b[39;00m move \u001b[38;5;129;01min\u001b[39;00m state\u001b[38;5;241m.\u001b[39mget_available_moves():\n\u001b[0;32m---> 66\u001b[0m     new_state \u001b[38;5;241m=\u001b[39m \u001b[43mdeepcopy\u001b[49m\u001b[43m(\u001b[49m\u001b[43mstate\u001b[49m\u001b[43m)\u001b[49m\n\u001b[1;32m     67\u001b[0m     new_state\u001b[38;5;241m.\u001b[39mmove(move, player_move \u001b[38;5;241m=\u001b[39m \u001b[38;5;28;01mFalse\u001b[39;00m)\n\u001b[1;32m     68\u001b[0m     \u001b[38;5;28meval\u001b[39m, _ \u001b[38;5;241m=\u001b[39m \u001b[38;5;28mself\u001b[39m\u001b[38;5;241m.\u001b[39mmini_max(new_state, ply \u001b[38;5;241m-\u001b[39m \u001b[38;5;241m1\u001b[39m, \u001b[38;5;28;01mFalse\u001b[39;00m)\n",
      "File \u001b[0;32m/usr/local/python/3.12.1/lib/python3.12/copy.py:162\u001b[0m, in \u001b[0;36mdeepcopy\u001b[0;34m(x, memo, _nil)\u001b[0m\n\u001b[1;32m    160\u001b[0m                 y \u001b[38;5;241m=\u001b[39m x\n\u001b[1;32m    161\u001b[0m             \u001b[38;5;28;01melse\u001b[39;00m:\n\u001b[0;32m--> 162\u001b[0m                 y \u001b[38;5;241m=\u001b[39m \u001b[43m_reconstruct\u001b[49m\u001b[43m(\u001b[49m\u001b[43mx\u001b[49m\u001b[43m,\u001b[49m\u001b[43m \u001b[49m\u001b[43mmemo\u001b[49m\u001b[43m,\u001b[49m\u001b[43m \u001b[49m\u001b[38;5;241;43m*\u001b[39;49m\u001b[43mrv\u001b[49m\u001b[43m)\u001b[49m\n\u001b[1;32m    164\u001b[0m \u001b[38;5;66;03m# If is its own copy, don't memoize.\u001b[39;00m\n\u001b[1;32m    165\u001b[0m \u001b[38;5;28;01mif\u001b[39;00m y \u001b[38;5;129;01mis\u001b[39;00m \u001b[38;5;129;01mnot\u001b[39;00m x:\n",
      "File \u001b[0;32m/usr/local/python/3.12.1/lib/python3.12/copy.py:259\u001b[0m, in \u001b[0;36m_reconstruct\u001b[0;34m(x, memo, func, args, state, listiter, dictiter, deepcopy)\u001b[0m\n\u001b[1;32m    257\u001b[0m \u001b[38;5;28;01mif\u001b[39;00m state \u001b[38;5;129;01mis\u001b[39;00m \u001b[38;5;129;01mnot\u001b[39;00m \u001b[38;5;28;01mNone\u001b[39;00m:\n\u001b[1;32m    258\u001b[0m     \u001b[38;5;28;01mif\u001b[39;00m deep:\n\u001b[0;32m--> 259\u001b[0m         state \u001b[38;5;241m=\u001b[39m \u001b[43mdeepcopy\u001b[49m\u001b[43m(\u001b[49m\u001b[43mstate\u001b[49m\u001b[43m,\u001b[49m\u001b[43m \u001b[49m\u001b[43mmemo\u001b[49m\u001b[43m)\u001b[49m\n\u001b[1;32m    260\u001b[0m     \u001b[38;5;28;01mif\u001b[39;00m \u001b[38;5;28mhasattr\u001b[39m(y, \u001b[38;5;124m'\u001b[39m\u001b[38;5;124m__setstate__\u001b[39m\u001b[38;5;124m'\u001b[39m):\n\u001b[1;32m    261\u001b[0m         y\u001b[38;5;241m.\u001b[39m__setstate__(state)\n",
      "File \u001b[0;32m/usr/local/python/3.12.1/lib/python3.12/copy.py:136\u001b[0m, in \u001b[0;36mdeepcopy\u001b[0;34m(x, memo, _nil)\u001b[0m\n\u001b[1;32m    134\u001b[0m copier \u001b[38;5;241m=\u001b[39m _deepcopy_dispatch\u001b[38;5;241m.\u001b[39mget(\u001b[38;5;28mcls\u001b[39m)\n\u001b[1;32m    135\u001b[0m \u001b[38;5;28;01mif\u001b[39;00m copier \u001b[38;5;129;01mis\u001b[39;00m \u001b[38;5;129;01mnot\u001b[39;00m \u001b[38;5;28;01mNone\u001b[39;00m:\n\u001b[0;32m--> 136\u001b[0m     y \u001b[38;5;241m=\u001b[39m \u001b[43mcopier\u001b[49m\u001b[43m(\u001b[49m\u001b[43mx\u001b[49m\u001b[43m,\u001b[49m\u001b[43m \u001b[49m\u001b[43mmemo\u001b[49m\u001b[43m)\u001b[49m\n\u001b[1;32m    137\u001b[0m \u001b[38;5;28;01melse\u001b[39;00m:\n\u001b[1;32m    138\u001b[0m     \u001b[38;5;28;01mif\u001b[39;00m \u001b[38;5;28missubclass\u001b[39m(\u001b[38;5;28mcls\u001b[39m, \u001b[38;5;28mtype\u001b[39m):\n",
      "File \u001b[0;32m/usr/local/python/3.12.1/lib/python3.12/copy.py:221\u001b[0m, in \u001b[0;36m_deepcopy_dict\u001b[0;34m(x, memo, deepcopy)\u001b[0m\n\u001b[1;32m    219\u001b[0m memo[\u001b[38;5;28mid\u001b[39m(x)] \u001b[38;5;241m=\u001b[39m y\n\u001b[1;32m    220\u001b[0m \u001b[38;5;28;01mfor\u001b[39;00m key, value \u001b[38;5;129;01min\u001b[39;00m x\u001b[38;5;241m.\u001b[39mitems():\n\u001b[0;32m--> 221\u001b[0m     y[deepcopy(key, memo)] \u001b[38;5;241m=\u001b[39m \u001b[43mdeepcopy\u001b[49m\u001b[43m(\u001b[49m\u001b[43mvalue\u001b[49m\u001b[43m,\u001b[49m\u001b[43m \u001b[49m\u001b[43mmemo\u001b[49m\u001b[43m)\u001b[49m\n\u001b[1;32m    222\u001b[0m \u001b[38;5;28;01mreturn\u001b[39;00m y\n",
      "File \u001b[0;32m/usr/local/python/3.12.1/lib/python3.12/copy.py:162\u001b[0m, in \u001b[0;36mdeepcopy\u001b[0;34m(x, memo, _nil)\u001b[0m\n\u001b[1;32m    160\u001b[0m                 y \u001b[38;5;241m=\u001b[39m x\n\u001b[1;32m    161\u001b[0m             \u001b[38;5;28;01melse\u001b[39;00m:\n\u001b[0;32m--> 162\u001b[0m                 y \u001b[38;5;241m=\u001b[39m \u001b[43m_reconstruct\u001b[49m\u001b[43m(\u001b[49m\u001b[43mx\u001b[49m\u001b[43m,\u001b[49m\u001b[43m \u001b[49m\u001b[43mmemo\u001b[49m\u001b[43m,\u001b[49m\u001b[43m \u001b[49m\u001b[38;5;241;43m*\u001b[39;49m\u001b[43mrv\u001b[49m\u001b[43m)\u001b[49m\n\u001b[1;32m    164\u001b[0m \u001b[38;5;66;03m# If is its own copy, don't memoize.\u001b[39;00m\n\u001b[1;32m    165\u001b[0m \u001b[38;5;28;01mif\u001b[39;00m y \u001b[38;5;129;01mis\u001b[39;00m \u001b[38;5;129;01mnot\u001b[39;00m x:\n",
      "File \u001b[0;32m/usr/local/python/3.12.1/lib/python3.12/copy.py:253\u001b[0m, in \u001b[0;36m_reconstruct\u001b[0;34m(x, memo, func, args, state, listiter, dictiter, deepcopy)\u001b[0m\n\u001b[1;32m    251\u001b[0m \u001b[38;5;28;01mif\u001b[39;00m deep \u001b[38;5;129;01mand\u001b[39;00m args:\n\u001b[1;32m    252\u001b[0m     args \u001b[38;5;241m=\u001b[39m (deepcopy(arg, memo) \u001b[38;5;28;01mfor\u001b[39;00m arg \u001b[38;5;129;01min\u001b[39;00m args)\n\u001b[0;32m--> 253\u001b[0m y \u001b[38;5;241m=\u001b[39m \u001b[43mfunc\u001b[49m\u001b[43m(\u001b[49m\u001b[38;5;241;43m*\u001b[39;49m\u001b[43margs\u001b[49m\u001b[43m)\u001b[49m\n\u001b[1;32m    254\u001b[0m \u001b[38;5;28;01mif\u001b[39;00m deep:\n\u001b[1;32m    255\u001b[0m     memo[\u001b[38;5;28mid\u001b[39m(x)] \u001b[38;5;241m=\u001b[39m y\n",
      "File \u001b[0;32m/usr/local/python/3.12.1/lib/python3.12/copy.py:252\u001b[0m, in \u001b[0;36m<genexpr>\u001b[0;34m(.0)\u001b[0m\n\u001b[1;32m    250\u001b[0m deep \u001b[38;5;241m=\u001b[39m memo \u001b[38;5;129;01mis\u001b[39;00m \u001b[38;5;129;01mnot\u001b[39;00m \u001b[38;5;28;01mNone\u001b[39;00m\n\u001b[1;32m    251\u001b[0m \u001b[38;5;28;01mif\u001b[39;00m deep \u001b[38;5;129;01mand\u001b[39;00m args:\n\u001b[0;32m--> 252\u001b[0m     args \u001b[38;5;241m=\u001b[39m (\u001b[43mdeepcopy\u001b[49m\u001b[43m(\u001b[49m\u001b[43marg\u001b[49m\u001b[43m,\u001b[49m\u001b[43m \u001b[49m\u001b[43mmemo\u001b[49m\u001b[43m)\u001b[49m \u001b[38;5;28;01mfor\u001b[39;00m arg \u001b[38;5;129;01min\u001b[39;00m args)\n\u001b[1;32m    253\u001b[0m y \u001b[38;5;241m=\u001b[39m func(\u001b[38;5;241m*\u001b[39margs)\n\u001b[1;32m    254\u001b[0m \u001b[38;5;28;01mif\u001b[39;00m deep:\n",
      "File \u001b[0;32m/usr/local/python/3.12.1/lib/python3.12/copy.py:136\u001b[0m, in \u001b[0;36mdeepcopy\u001b[0;34m(x, memo, _nil)\u001b[0m\n\u001b[1;32m    134\u001b[0m copier \u001b[38;5;241m=\u001b[39m _deepcopy_dispatch\u001b[38;5;241m.\u001b[39mget(\u001b[38;5;28mcls\u001b[39m)\n\u001b[1;32m    135\u001b[0m \u001b[38;5;28;01mif\u001b[39;00m copier \u001b[38;5;129;01mis\u001b[39;00m \u001b[38;5;129;01mnot\u001b[39;00m \u001b[38;5;28;01mNone\u001b[39;00m:\n\u001b[0;32m--> 136\u001b[0m     y \u001b[38;5;241m=\u001b[39m \u001b[43mcopier\u001b[49m\u001b[43m(\u001b[49m\u001b[43mx\u001b[49m\u001b[43m,\u001b[49m\u001b[43m \u001b[49m\u001b[43mmemo\u001b[49m\u001b[43m)\u001b[49m\n\u001b[1;32m    137\u001b[0m \u001b[38;5;28;01melse\u001b[39;00m:\n\u001b[1;32m    138\u001b[0m     \u001b[38;5;28;01mif\u001b[39;00m \u001b[38;5;28missubclass\u001b[39m(\u001b[38;5;28mcls\u001b[39m, \u001b[38;5;28mtype\u001b[39m):\n",
      "File \u001b[0;32m/usr/local/python/3.12.1/lib/python3.12/copy.py:196\u001b[0m, in \u001b[0;36m_deepcopy_list\u001b[0;34m(x, memo, deepcopy)\u001b[0m\n\u001b[1;32m    194\u001b[0m append \u001b[38;5;241m=\u001b[39m y\u001b[38;5;241m.\u001b[39mappend\n\u001b[1;32m    195\u001b[0m \u001b[38;5;28;01mfor\u001b[39;00m a \u001b[38;5;129;01min\u001b[39;00m x:\n\u001b[0;32m--> 196\u001b[0m     append(\u001b[43mdeepcopy\u001b[49m\u001b[43m(\u001b[49m\u001b[43ma\u001b[49m\u001b[43m,\u001b[49m\u001b[43m \u001b[49m\u001b[43mmemo\u001b[49m\u001b[43m)\u001b[49m)\n\u001b[1;32m    197\u001b[0m \u001b[38;5;28;01mreturn\u001b[39;00m y\n",
      "File \u001b[0;32m/usr/local/python/3.12.1/lib/python3.12/copy.py:136\u001b[0m, in \u001b[0;36mdeepcopy\u001b[0;34m(x, memo, _nil)\u001b[0m\n\u001b[1;32m    134\u001b[0m copier \u001b[38;5;241m=\u001b[39m _deepcopy_dispatch\u001b[38;5;241m.\u001b[39mget(\u001b[38;5;28mcls\u001b[39m)\n\u001b[1;32m    135\u001b[0m \u001b[38;5;28;01mif\u001b[39;00m copier \u001b[38;5;129;01mis\u001b[39;00m \u001b[38;5;129;01mnot\u001b[39;00m \u001b[38;5;28;01mNone\u001b[39;00m:\n\u001b[0;32m--> 136\u001b[0m     y \u001b[38;5;241m=\u001b[39m \u001b[43mcopier\u001b[49m\u001b[43m(\u001b[49m\u001b[43mx\u001b[49m\u001b[43m,\u001b[49m\u001b[43m \u001b[49m\u001b[43mmemo\u001b[49m\u001b[43m)\u001b[49m\n\u001b[1;32m    137\u001b[0m \u001b[38;5;28;01melse\u001b[39;00m:\n\u001b[1;32m    138\u001b[0m     \u001b[38;5;28;01mif\u001b[39;00m \u001b[38;5;28missubclass\u001b[39m(\u001b[38;5;28mcls\u001b[39m, \u001b[38;5;28mtype\u001b[39m):\n",
      "File \u001b[0;32m/usr/local/python/3.12.1/lib/python3.12/copy.py:201\u001b[0m, in \u001b[0;36m_deepcopy_tuple\u001b[0;34m(x, memo, deepcopy)\u001b[0m\n\u001b[1;32m    200\u001b[0m \u001b[38;5;28;01mdef\u001b[39;00m \u001b[38;5;21m_deepcopy_tuple\u001b[39m(x, memo, deepcopy\u001b[38;5;241m=\u001b[39mdeepcopy):\n\u001b[0;32m--> 201\u001b[0m     y \u001b[38;5;241m=\u001b[39m [\u001b[43mdeepcopy\u001b[49m\u001b[43m(\u001b[49m\u001b[43ma\u001b[49m\u001b[43m,\u001b[49m\u001b[43m \u001b[49m\u001b[43mmemo\u001b[49m\u001b[43m)\u001b[49m \u001b[38;5;28;01mfor\u001b[39;00m a \u001b[38;5;129;01min\u001b[39;00m x]\n\u001b[1;32m    202\u001b[0m     \u001b[38;5;66;03m# We're not going to put the tuple in the memo, but it's still important we\u001b[39;00m\n\u001b[1;32m    203\u001b[0m     \u001b[38;5;66;03m# check for it, in case the tuple contains recursive mutable structures.\u001b[39;00m\n\u001b[1;32m    204\u001b[0m     \u001b[38;5;28;01mtry\u001b[39;00m:\n",
      "File \u001b[0;32m/usr/local/python/3.12.1/lib/python3.12/copy.py:136\u001b[0m, in \u001b[0;36mdeepcopy\u001b[0;34m(x, memo, _nil)\u001b[0m\n\u001b[1;32m    134\u001b[0m copier \u001b[38;5;241m=\u001b[39m _deepcopy_dispatch\u001b[38;5;241m.\u001b[39mget(\u001b[38;5;28mcls\u001b[39m)\n\u001b[1;32m    135\u001b[0m \u001b[38;5;28;01mif\u001b[39;00m copier \u001b[38;5;129;01mis\u001b[39;00m \u001b[38;5;129;01mnot\u001b[39;00m \u001b[38;5;28;01mNone\u001b[39;00m:\n\u001b[0;32m--> 136\u001b[0m     y \u001b[38;5;241m=\u001b[39m \u001b[43mcopier\u001b[49m\u001b[43m(\u001b[49m\u001b[43mx\u001b[49m\u001b[43m,\u001b[49m\u001b[43m \u001b[49m\u001b[43mmemo\u001b[49m\u001b[43m)\u001b[49m\n\u001b[1;32m    137\u001b[0m \u001b[38;5;28;01melse\u001b[39;00m:\n\u001b[1;32m    138\u001b[0m     \u001b[38;5;28;01mif\u001b[39;00m \u001b[38;5;28missubclass\u001b[39m(\u001b[38;5;28mcls\u001b[39m, \u001b[38;5;28mtype\u001b[39m):\n",
      "File \u001b[0;32m/usr/local/python/3.12.1/lib/python3.12/copy.py:208\u001b[0m, in \u001b[0;36m_deepcopy_tuple\u001b[0;34m(x, memo, deepcopy)\u001b[0m\n\u001b[1;32m    206\u001b[0m \u001b[38;5;28;01mexcept\u001b[39;00m \u001b[38;5;167;01mKeyError\u001b[39;00m:\n\u001b[1;32m    207\u001b[0m     \u001b[38;5;28;01mpass\u001b[39;00m\n\u001b[0;32m--> 208\u001b[0m \u001b[38;5;28;01mfor\u001b[39;00m k, j \u001b[38;5;129;01min\u001b[39;00m \u001b[38;5;28;43mzip\u001b[39;49m\u001b[43m(\u001b[49m\u001b[43mx\u001b[49m\u001b[43m,\u001b[49m\u001b[43m \u001b[49m\u001b[43my\u001b[49m\u001b[43m)\u001b[49m:\n\u001b[1;32m    209\u001b[0m     \u001b[38;5;28;01mif\u001b[39;00m k \u001b[38;5;129;01mis\u001b[39;00m \u001b[38;5;129;01mnot\u001b[39;00m j:\n\u001b[1;32m    210\u001b[0m         y \u001b[38;5;241m=\u001b[39m \u001b[38;5;28mtuple\u001b[39m(y)\n",
      "\u001b[0;31mKeyboardInterrupt\u001b[0m: "
     ]
    }
   ],
   "source": [
    "move = game_min.get_move((1, 0), (1, 1))\n",
    "print(move)\n",
    "game_min"
   ]
  },
  {
   "cell_type": "code",
   "execution_count": 47,
   "metadata": {},
   "outputs": [
    {
     "data": {
      "text/plain": [
       "59"
      ]
     },
     "execution_count": 47,
     "metadata": {},
     "output_type": "execute_result"
    }
   ],
   "source": [
    "len(game_min._board._open_vectors)"
   ]
  },
  {
   "cell_type": "markdown",
   "metadata": {},
   "source": [
    "Numero de estados iniciales a partir de dimensiones $m$ y $n$  \n",
    "$\n",
    "N = m \\times \\left(n + 1\\right) + \\left(m + 1\\right) \\times n\n",
    "$\n",
    "\n",
    "Numero de posibles estados para profundidad $d$: $ S_d = \\binom{ejes libres}{d} = \\binom{n}{k}= \\frac{n!}{k!(n-k)!} $\n"
   ]
  },
  {
   "cell_type": "code",
   "execution_count": 116,
   "metadata": {},
   "outputs": [],
   "source": [
    "import math\n",
    "import matplotlib.pyplot as plt\n",
    "import numpy as np\n",
    "\n",
    "def total_states_depth(N, d):\n",
    "    s = 0\n",
    "    for k in range(0, d + 1):\n",
    "        s += math.comb(N, k)\n",
    "    return s"
   ]
  },
  {
   "cell_type": "code",
   "execution_count": 126,
   "metadata": {},
   "outputs": [
    {
     "name": "stdout",
     "output_type": "stream",
     "text": [
      "Total states: 4\n",
      "Total States for depth 5\n"
     ]
    }
   ],
   "source": [
    "m = 1\n",
    "n = 1\n",
    "d = 1\n",
    "\n",
    "N = m * (n + 1) + (m + 1) * n\n",
    "print(\"Total states:\", N)\n",
    "S = total_states_depth(N, d)\n",
    "# S = 0\n",
    "# for k in range(0, d + 1):\n",
    "#     S += math.comb(N, k)\n",
    "print(\"Total States for depth\", f\"{S:,}\")"
   ]
  },
  {
   "cell_type": "code",
   "execution_count": 95,
   "metadata": {},
   "outputs": [
    {
     "data": {
      "image/png": "[encoded data removed]",
      "text/plain": [
       "<Figure size 1500x600 with 1 Axes>"
      ]
     },
     "metadata": {},
     "output_type": "display_data"
    }
   ],
   "source": [
    "elements = N\n",
    "depths = range(d + 1)\n",
    "states_at_depth = [total_states_depth(N, d) for d in depths]\n",
    "\n",
    "plt.figure(figsize=(15, 6))\n",
    "plt.plot(depths, states_at_depth, marker='o', linestyle='-', color='b')\n",
    "plt.xlabel('Depth')\n",
    "plt.ylabel(f'Number of Game States for {N} Edges')\n",
    "plt.title(f'Number of Game States for {N} Edges at Different Depths')\n",
    "plt.grid(True)\n",
    "plt.xticks(depths)\n",
    "plt.show()"
   ]
  },
  {
   "cell_type": "code",
   "execution_count": 127,
   "metadata": {},
   "outputs": [
    {
     "data": {
      "image/png": "[encoded data removed]",
      "text/plain": [
       "<Figure size 1500x600 with 1 Axes>"
      ]
     },
     "metadata": {},
     "output_type": "display_data"
    }
   ],
   "source": [
    "elements = range(N + 1)\n",
    "states = [total_states_depth(n, d) for n in elements]\n",
    "\n",
    "plt.figure(figsize=(15, 6))\n",
    "plt.plot(elements, states, marker='o', linestyle='-', color='b')\n",
    "plt.gca().invert_xaxis()\n",
    "plt.xlabel('Available movements')\n",
    "plt.ylabel(f'Total Number of Game States for Depth {d}')\n",
    "plt.title(f'Numer of Game States for each play of {N} Edges at Depth {d}')\n",
    "plt.grid(True)\n",
    "plt.xticks(elements)\n",
    "plt.show()"
   ]
  }
 ],
 "metadata": {
  "kernelspec": {
   "display_name": "Python 3",
   "language": "python",
   "name": "python3"
  },
  "language_info": {
   "codemirror_mode": {
    "name": "ipython",
    "version": 3
   },
   "file_extension": ".py",
   "mimetype": "text/x-python",
   "name": "python",
   "nbconvert_exporter": "python",
   "pygments_lexer": "ipython3",
   "version": "3.12.1"
  }
 },
 "nbformat": 4,
 "nbformat_minor": 2
}
